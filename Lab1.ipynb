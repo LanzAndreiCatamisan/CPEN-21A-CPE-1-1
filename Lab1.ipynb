{
  "nbformat": 4,
  "nbformat_minor": 0,
  "metadata": {
    "colab": {
      "name": "Lab1.ipynb",
      "provenance": [],
      "authorship_tag": "ABX9TyMMSWRnRJQe+c/2R+GPjMcf",
      "include_colab_link": true
    },
    "kernelspec": {
      "name": "python3",
      "display_name": "Python 3"
    },
    "language_info": {
      "name": "python"
    }
  },
  "cells": [
    {
      "cell_type": "markdown",
      "metadata": {
        "id": "view-in-github",
        "colab_type": "text"
      },
      "source": [
        "<a href=\"https://colab.research.google.com/github/LanzAndreiCatamisan/CPEN-21A-CPE-1-1/blob/main/Lab1.ipynb\" target=\"_parent\"><img src=\"https://colab.research.google.com/assets/colab-badge.svg\" alt=\"Open In Colab\"/></a>"
      ]
    },
    {
      "cell_type": "markdown",
      "metadata": {
        "id": "R3MuX_5fWXVX"
      },
      "source": [
        "##**Laboratory 1**"
      ]
    },
    {
      "cell_type": "code",
      "metadata": {
        "colab": {
          "base_uri": "https://localhost:8080/"
        },
        "id": "l-DHkHCbVTtw",
        "outputId": "442002b4-70ef-427e-ebe3-e35ac82ebb8e"
      },
      "source": [
        "x = \"Welcome to Python Programming\"\n",
        "print(x)"
      ],
      "execution_count": 13,
      "outputs": [
        {
          "output_type": "stream",
          "name": "stdout",
          "text": [
            "Welcome to Python Programming\n"
          ]
        }
      ]
    },
    {
      "cell_type": "code",
      "metadata": {
        "colab": {
          "base_uri": "https://localhost:8080/"
        },
        "id": "WiOJpjyPYunl",
        "outputId": "52d1e53a-0c56-4a3f-e9a1-450aee73a369"
      },
      "source": [
        "name = \"Lanz Andrei A. Catamisan\"\n",
        "age = \"18\"\n",
        "address = \"San Juan II, Ternate, Cavite\"\n",
        "print(\"Name: \"+ name)\n",
        "print(\"Age: \"+ age)\n",
        "print(\"Address: \"+ address)"
      ],
      "execution_count": 10,
      "outputs": [
        {
          "output_type": "stream",
          "name": "stdout",
          "text": [
            "Name: Lanz Andrei A. Catamisan\n",
            "Address: San Juan II, Ternate, Cavite\n",
            "Age: 18\n"
          ]
        }
      ]
    }
  ]
}