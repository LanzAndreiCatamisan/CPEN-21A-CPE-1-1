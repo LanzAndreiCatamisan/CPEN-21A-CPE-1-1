{
  "nbformat": 4,
  "nbformat_minor": 0,
  "metadata": {
    "colab": {
      "name": "Demo1.ipynb",
      "provenance": [],
      "authorship_tag": "ABX9TyMNgohvOX9jOvY/xLZYtjYg",
      "include_colab_link": true
    },
    "kernelspec": {
      "name": "python3",
      "display_name": "Python 3"
    },
    "language_info": {
      "name": "python"
    }
  },
  "cells": [
    {
      "cell_type": "markdown",
      "metadata": {
        "id": "view-in-github",
        "colab_type": "text"
      },
      "source": [
        "<a href=\"https://colab.research.google.com/github/LanzAndreiCatamisan/CPEN-21A-CPE-1-1/blob/main/Demo1.ipynb\" target=\"_parent\"><img src=\"https://colab.research.google.com/assets/colab-badge.svg\" alt=\"Open In Colab\"/></a>"
      ]
    },
    {
      "cell_type": "markdown",
      "metadata": {
        "id": "MBlXMobLXsZ1"
      },
      "source": [
        "#**Introduction to Python Programming**"
      ]
    },
    {
      "cell_type": "code",
      "metadata": {
        "id": "zdiu1SIXaOR6"
      },
      "source": [
        "a = \"Sally\"\n",
        "A = \"John\"\n",
        "print(a)\n",
        "print(A)"
      ],
      "execution_count": null,
      "outputs": []
    },
    {
      "cell_type": "code",
      "metadata": {
        "id": "CUgMiLSGXNCb"
      },
      "source": [
        "b = \"Sally\"\n",
        "print(type(b))"
      ],
      "execution_count": null,
      "outputs": []
    },
    {
      "cell_type": "code",
      "metadata": {
        "colab": {
          "base_uri": "https://localhost:8080/"
        },
        "id": "UkOOVxVDYcue",
        "outputId": "da488573-4a05-404c-d471-6c14456a23a1"
      },
      "source": [
        "a, b, c = 0, 1, 2\n",
        "print(type(a))      #This is a comment\n",
        "print(b)\n",
        "print(c)"
      ],
      "execution_count": 8,
      "outputs": [
        {
          "output_type": "stream",
          "name": "stdout",
          "text": [
            "<class 'int'>\n",
            "1\n",
            "2\n"
          ]
        }
      ]
    },
    {
      "cell_type": "code",
      "metadata": {
        "id": "tX8OLyiZY3rE"
      },
      "source": [
        "a = int(4)\n",
        "print(a)"
      ],
      "execution_count": null,
      "outputs": []
    },
    {
      "cell_type": "code",
      "metadata": {
        "id": "G6p-3BGDZKEI"
      },
      "source": [
        "a = float(4)\n",
        "print(a)"
      ],
      "execution_count": null,
      "outputs": []
    },
    {
      "cell_type": "markdown",
      "metadata": {
        "id": "h9bRhUMPa-xm"
      },
      "source": [
        "###One Value to Multiple Variables"
      ]
    },
    {
      "cell_type": "code",
      "metadata": {
        "colab": {
          "base_uri": "https://localhost:8080/"
        },
        "id": "m50symUvZQ3_",
        "outputId": "3fa61a7b-10ba-4e8b-8ca1-844b37a319ed"
      },
      "source": [
        "x = y = z =\"four\"\n",
        "print(x)\n",
        "print(y)\n",
        "print(z)"
      ],
      "execution_count": 9,
      "outputs": [
        {
          "output_type": "stream",
          "name": "stdout",
          "text": [
            "four\n",
            "four\n",
            "four\n"
          ]
        }
      ]
    },
    {
      "cell_type": "code",
      "metadata": {
        "colab": {
          "base_uri": "https://localhost:8080/"
        },
        "id": "y25140-4bhQ7",
        "outputId": "1f629d18-6a16-46ff-8a53-bb46733c6e58"
      },
      "source": [
        "x = \"enjoying\"\n",
        "print(\"Python programming is \"+ x)"
      ],
      "execution_count": 10,
      "outputs": [
        {
          "output_type": "stream",
          "name": "stdout",
          "text": [
            "Python programming is enjoying\n"
          ]
        }
      ]
    },
    {
      "cell_type": "code",
      "metadata": {
        "colab": {
          "base_uri": "https://localhost:8080/"
        },
        "id": "GjKylvgMcTJB",
        "outputId": "9f772a6e-bf03-4874-b878-addecf67961a"
      },
      "source": [
        "x = 9\n",
        "y = 5\n",
        "print(x+y)\n",
        "print(y-x)"
      ],
      "execution_count": 11,
      "outputs": [
        {
          "output_type": "stream",
          "name": "stdout",
          "text": [
            "14\n",
            "-4\n"
          ]
        }
      ]
    },
    {
      "cell_type": "code",
      "metadata": {
        "colab": {
          "base_uri": "https://localhost:8080/"
        },
        "id": "BMbk4v1ZclvU",
        "outputId": "8aa1514a-2267-4cd8-88d0-ae45516dabbd"
      },
      "source": [
        "x>y and x==x"
      ],
      "execution_count": 15,
      "outputs": [
        {
          "output_type": "execute_result",
          "data": {
            "text/plain": [
              "True"
            ]
          },
          "metadata": {},
          "execution_count": 15
        }
      ]
    }
  ]
}