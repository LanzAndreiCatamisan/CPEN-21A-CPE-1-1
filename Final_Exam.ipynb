{
  "nbformat": 4,
  "nbformat_minor": 0,
  "metadata": {
    "colab": {
      "name": "Final Exam.ipynb",
      "provenance": [],
      "authorship_tag": "ABX9TyO4IFK5j17c1eBDFJWfs3rh",
      "include_colab_link": true
    },
    "kernelspec": {
      "name": "python3",
      "display_name": "Python 3"
    },
    "language_info": {
      "name": "python"
    }
  },
  "cells": [
    {
      "cell_type": "markdown",
      "metadata": {
        "id": "view-in-github",
        "colab_type": "text"
      },
      "source": [
        "<a href=\"https://colab.research.google.com/github/LanzAndreiCatamisan/CPEN-21A-CPE-1-1/blob/main/Final_Exam.ipynb\" target=\"_parent\"><img src=\"https://colab.research.google.com/assets/colab-badge.svg\" alt=\"Open In Colab\"/></a>"
      ]
    },
    {
      "cell_type": "markdown",
      "source": [
        "#**Final Exam**"
      ],
      "metadata": {
        "id": "SijWwWcMUDEf"
      }
    },
    {
      "cell_type": "markdown",
      "source": [
        "######**PROBLEM STATEMENT 1**"
      ],
      "metadata": {
        "id": "wz5roZjEUd4P"
      }
    },
    {
      "cell_type": "code",
      "source": [
        "sum = 0\n",
        "for x in range(1, 11):\n",
        "  for x in range(1,2):\n",
        "    sum+=x\n",
        "print(sum)"
      ],
      "metadata": {
        "colab": {
          "base_uri": "https://localhost:8080/"
        },
        "id": "axtcl9HrhMgc",
        "outputId": "ce8b97bf-753c-4173-90c6-348d065d1319"
      },
      "execution_count": 42,
      "outputs": [
        {
          "output_type": "stream",
          "name": "stdout",
          "text": [
            "10\n"
          ]
        }
      ]
    },
    {
      "cell_type": "markdown",
      "source": [
        "######**PROBLEM STATEMENT 2**"
      ],
      "metadata": {
        "id": "Zib_E_HgU040"
      }
    },
    {
      "cell_type": "code",
      "source": [
        "print(\"Input five numbers:\")\n",
        "num1 = int(input('1: '))\n",
        "num2 = int(input('2: '))\n",
        "num3 = int(input('3: '))\n",
        "num4 = int(input('4: '))\n",
        "num5 = int(input('5: '))\n",
        "\n",
        "x = 1\n",
        "while x>0:\n",
        "  sum = num1 + num5\n",
        "  x = -1\n",
        "\n",
        "print(\"The sum of the first and last number is\", sum)"
      ],
      "metadata": {
        "colab": {
          "base_uri": "https://localhost:8080/"
        },
        "id": "hkmcCAxbxbql",
        "outputId": "fb7e97ae-1db3-41c1-cef2-ee0fe1f0963c"
      },
      "execution_count": 39,
      "outputs": [
        {
          "output_type": "stream",
          "name": "stdout",
          "text": [
            "Input five numbers:\n",
            "1: 67\n",
            "2: -78\n",
            "3: 36\n",
            "4: -52\n",
            "5: 85\n",
            "The sum of the first and last number is 152\n"
          ]
        }
      ]
    },
    {
      "cell_type": "markdown",
      "source": [
        "######**PROBLEM STATEMENT 3**"
      ],
      "metadata": {
        "id": "QBkZMDsnU678"
      }
    },
    {
      "cell_type": "code",
      "source": [
        "grade = int(input(\"Input Numerical Grade:\"))\n",
        "\n",
        "if grade>=60:\n",
        "  if grade>=70:\n",
        "    if grade>=80:\n",
        "      if grade>=90:\n",
        "        print(\"Grade:A\")\n",
        "      else:\n",
        "        print(\"Grade:B\")\n",
        "    else:\n",
        "      print(\"Grade:C\")\n",
        "  else:\n",
        "    print(\"Grade:D\")\n",
        "else:\n",
        "  print(\"Grade:F\")"
      ],
      "metadata": {
        "colab": {
          "base_uri": "https://localhost:8080/"
        },
        "id": "PEMUdZ3_gBZT",
        "outputId": "e1f6f7e1-6086-4239-9d19-287ec5c27947"
      },
      "execution_count": 38,
      "outputs": [
        {
          "output_type": "stream",
          "name": "stdout",
          "text": [
            "Input Numerical Grade:87\n",
            "Grade:B\n"
          ]
        }
      ]
    }
  ]
}