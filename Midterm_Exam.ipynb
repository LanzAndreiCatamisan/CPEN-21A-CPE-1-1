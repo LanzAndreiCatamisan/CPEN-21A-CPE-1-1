{
  "nbformat": 4,
  "nbformat_minor": 0,
  "metadata": {
    "colab": {
      "name": "Midterm Exam.ipynb",
      "provenance": [],
      "authorship_tag": "ABX9TyOVyRdxnQuXg1aJX04xdu10",
      "include_colab_link": true
    },
    "kernelspec": {
      "name": "python3",
      "display_name": "Python 3"
    },
    "language_info": {
      "name": "python"
    }
  },
  "cells": [
    {
      "cell_type": "markdown",
      "metadata": {
        "id": "view-in-github",
        "colab_type": "text"
      },
      "source": [
        "<a href=\"https://colab.research.google.com/github/LanzAndreiCatamisan/CPEN-21A-CPE-1-1/blob/main/Midterm_Exam.ipynb\" target=\"_parent\"><img src=\"https://colab.research.google.com/assets/colab-badge.svg\" alt=\"Open In Colab\"/></a>"
      ]
    },
    {
      "cell_type": "markdown",
      "metadata": {
        "id": "nwu0MjBZi5Dc"
      },
      "source": [
        "# **Midterm Exam**"
      ]
    },
    {
      "cell_type": "markdown",
      "metadata": {
        "id": "EnoXyKGgjL0n"
      },
      "source": [
        "**Problem Statement 1**"
      ]
    },
    {
      "cell_type": "code",
      "metadata": {
        "colab": {
          "base_uri": "https://localhost:8080/"
        },
        "id": "5CzKtCoQh7_v",
        "outputId": "211f2b5d-d4c9-405f-8858-f10dd57b5825"
      },
      "source": [
        "FN = \"Lanz Andrei A. Catamisan\"\n",
        "SN = \"202101886\"\n",
        "Age = \"18\"\n",
        "Birthday = \"May 24, 2003\"\n",
        "Address = \"San Juan II, Ternate, Cavite\"\n",
        "Course = \"Bachelor of Science in Computer Engineering\"\n",
        "GWA = \"95\" #Senior High School GWA\n",
        "print(\"Full Name: \"+ FN)\n",
        "print(\"Student Number: \"+ SN)\n",
        "print(\"Age: \"+ Age)\n",
        "print(\"Birthday: \"+ Birthday)\n",
        "print(\"Address: \"+ Address)\n",
        "print(\"Course: \"+ Course)\n",
        "print(\"Last Sem GWA: \"+ GWA)"
      ],
      "execution_count": 1,
      "outputs": [
        {
          "output_type": "stream",
          "name": "stdout",
          "text": [
            "Full Name: Lanz Andrei A. Catamisan\n",
            "Student Number: 202101886\n",
            "Age: 18\n",
            "Birthday: May 24, 2003\n",
            "Address: San Juan II, Ternate, Cavite\n",
            "Course: Bachelor of Science in Computer Engineering\n",
            "Last Sem GWA: 95\n"
          ]
        }
      ]
    },
    {
      "cell_type": "markdown",
      "metadata": {
        "id": "KTDUYJRnlex8"
      },
      "source": [
        "**Problem Statement 2**"
      ]
    },
    {
      "cell_type": "code",
      "metadata": {
        "colab": {
          "base_uri": "https://localhost:8080/"
        },
        "id": "I0sEiz8ulidz",
        "outputId": "f8748782-03fc-4391-cd7c-01894411d730"
      },
      "source": [
        "n = 4\n",
        "answ = \"Y\"\n",
        "print((2<n) and (n<6))\n",
        "print((2<n) or (n==6))\n",
        "print(not(2<n) or (n==6))\n",
        "print(not(n<6))\n",
        "print((answ==\"Y\") or (answ==\"y\"))\n",
        "print((answ==\"Y\") and (answ==\"y\"))\n",
        "print(not(answ==\"y\"))\n",
        "print(((2<n) and (n==5+1)) or (answ==\"No\"))\n",
        "print(((n==2) and (n==7)) or (answ==\"Y\"))\n",
        "print((n==2) and ((n==7) or (answ==\"Y\")))"
      ],
      "execution_count": 36,
      "outputs": [
        {
          "output_type": "stream",
          "name": "stdout",
          "text": [
            "True\n",
            "True\n",
            "False\n",
            "False\n",
            "True\n",
            "False\n",
            "True\n",
            "False\n",
            "True\n",
            "False\n"
          ]
        }
      ]
    },
    {
      "cell_type": "markdown",
      "metadata": {
        "id": "CKlTa3KHqAGL"
      },
      "source": [
        "**Problem Statement 3**"
      ]
    },
    {
      "cell_type": "code",
      "metadata": {
        "colab": {
          "base_uri": "https://localhost:8080/"
        },
        "id": "zukC7H7BqEf4",
        "outputId": "51441f78-a2c7-484b-be7a-fa7525f7e45c"
      },
      "source": [
        "x = 2\n",
        "y = -3\n",
        "w = 7\n",
        "z = -10\t\n",
        "a = x/y\n",
        "b = w/y/x\n",
        "c = z/y%x\t\n",
        "d = x%-y*w\n",
        "e = x%y\t\n",
        "f = z%w-y/x*5+5\n",
        "g = 9-x%(2+y)\n",
        "h = z//w\n",
        "i = (2+y)**2\n",
        "j = w/x*2\n",
        "print(a)\n",
        "print(b)\n",
        "print(c)\n",
        "print(d)\n",
        "print(e)\n",
        "print(f)\n",
        "print(g)\n",
        "print(h)\n",
        "print(i)\n",
        "print(j)"
      ],
      "execution_count": 51,
      "outputs": [
        {
          "output_type": "stream",
          "name": "stdout",
          "text": [
            "-0.6666666666666666\n",
            "-1.1666666666666667\n",
            "1.3333333333333335\n",
            "14\n",
            "-1\n",
            "16.5\n",
            "9\n",
            "-2\n",
            "1\n",
            "7.0\n"
          ]
        }
      ]
    }
  ]
}